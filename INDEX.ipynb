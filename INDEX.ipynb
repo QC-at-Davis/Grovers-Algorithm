{
 "cells": [
  {
   "cell_type": "markdown",
   "metadata": {},
   "source": [
    "# Grover's Algorithm Workshop"
   ]
  },
  {
   "cell_type": "markdown",
   "metadata": {},
   "source": [
    "The notebooks (and additional reading) are arranged in the following order (it is assumed you have been present\n",
    "or have watched the Workshop recording as well as the contents of the slides)\n",
    "\n",
    "* Controlled-Gates.ipynb\n",
    "* Oracles.ipynb\n",
    "* Information on the SAT problem\n",
    "  * NOTE: Just read the sections DESCRIBING the problem. This just meant to give a better idea of a problem (SAT) that is immediately applicable to Grover's algorithm. You can read the sections about the implementation if you like (and you're encouraged to!) but try to avoid getting too confused by certain circuit differences. For example, CNOT.io uses a notation for representing gates that can apply an X to a target qubit based on an arbitrary state that I opted not to cover.\n",
    "  * http://www.cs.ecu.edu/karl/6420/spr16/Notes/NPcomplete/sat.html\n",
    "  * https://cnot.io/quantum_algorithms/grover/using_grovers_algorithm.html#sat_problems\n",
    "  * https://qiskit.org/textbook/ch-applications/satisfiability-grover.html\n",
    "* Deriving-Grover's-Operator.ipynb\n",
    "* Applying-Grover's-Operator-Mathematically.ipynb\n",
    "* npquantum-demo.ipynb \n",
    "  * This isn't necessary to understand the implementation but it does cover the case of overshooting and goes to the matrix level to explain what's going on\n",
    "* Implementation.ipynb"
   ]
  }
 ],
 "metadata": {
  "kernelspec": {
   "display_name": "Python 3 (ipykernel)",
   "language": "python",
   "name": "python3"
  },
  "language_info": {
   "codemirror_mode": {
    "name": "ipython",
    "version": 3
   },
   "file_extension": ".py",
   "mimetype": "text/x-python",
   "name": "python",
   "nbconvert_exporter": "python",
   "pygments_lexer": "ipython3",
   "version": "3.9.7"
  }
 },
 "nbformat": 4,
 "nbformat_minor": 4
}
