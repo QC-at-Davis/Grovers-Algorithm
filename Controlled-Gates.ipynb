{
 "cells": [
  {
   "cell_type": "markdown",
   "metadata": {},
   "source": [
    "# Controlled Gates"
   ]
  },
  {
   "cell_type": "markdown",
   "metadata": {},
   "source": [
    "For all of the prior workshops, you've been exposed to single Qubit gates. They're neat 2x2 matrices that just work on single qubits. "
   ]
  },
  {
   "cell_type": "markdown",
   "metadata": {},
   "source": [
    "However, single qubits aren't enough to express all the possible computations we'd want to run on a quantum computer. We need gates that allow multiple qubits to interact with eachother. \n",
    "\n",
    "To do such a thing a class of quantum gates exist known as \"Controlled\" gates. These gates act on other qubits (a \"target\") based on the state of their input qubits (\"control\" qubits)."
   ]
  },
  {
   "cell_type": "markdown",
   "metadata": {},
   "source": [
    "## Controlled NOT (CNOT/CX)"
   ]
  },
  {
   "cell_type": "markdown",
   "metadata": {},
   "source": [
    "The CNOT/CX gate selectively applies the X gate to a qubit depending on the state of a particular input qubit."
   ]
  },
  {
   "cell_type": "markdown",
   "metadata": {},
   "source": [
    "If the input qubit is in the $\\ket{1}$ state, then the X gate is applied. Otherwise, nothing happens. Furthermore, nothing happens to the input qubit, it is ONLY the target qubit that is affected. \n",
    "\n",
    "If we let the first qubit represent the Control, and the second qubit represent the Target (think $\\ket{\\text{control}} \\otimes \\ket{\\text{target}}$, we obtain the following:"
   ]
  },
  {
   "cell_type": "markdown",
   "metadata": {},
   "source": [
    "$$CX \\ket{00} = \\ket{00}$$\n",
    "$$CX \\ket{01} = \\ket{01}$$\n",
    "$$CX \\ket{10} = \\ket{11}$$\n",
    "$$CX \\ket{11} = \\ket{10}$$\n",
    "\n",
    "In all the $\\ket{\\text{control}}$ entries, the qubit state is presrved. However, in the last two entries we see that when $\\ket{\\text{control}} = \\ket{1} $, the target qubit is flipped."
   ]
  },
  {
   "cell_type": "markdown",
   "metadata": {},
   "source": [
    "You can also think of the CX gate as a kind of reversible XOR gate (source: [\"Tutorial: Implement Grover's search algorithm in Q#\", Azure Quantum Documentation](https://docs.microsoft.com/en-us/azure/quantum/tutorial-qdk-grovers-search?tabs=tabid-visualstudio)). It is reversible in the sense that if you are given the output, you know the input as well versus the traditional XOR operation where two bits of input only give you a single ouptut. "
   ]
  },
  {
   "cell_type": "markdown",
   "metadata": {},
   "source": [
    "This can also be expressed in ket-bra decomposition as:\n",
    "    \n",
    "$$\n",
    "CX = \\ket{00}\\bra{00} + \\ket{01}\\bra{01} + \\ket{11}\\bra{10} + \\ket{10}\\bra{11}\n",
    "$$\n",
    "\n",
    "Note that we map each input as a bra, and each output as a ket"
   ]
  },
  {
   "cell_type": "markdown",
   "metadata": {},
   "source": [
    "In many quantum software frameworks, such as the one you'll be using in later workshops, you'll find that the CX gate is visually represented like the following:"
   ]
  },
  {
   "cell_type": "code",
   "execution_count": 3,
   "metadata": {},
   "outputs": [
    {
     "data": {
      "image/png": "[encoded data removed]",
      "text/plain": [
       "<Figure size 146.652x144.48 with 1 Axes>"
      ]
     },
     "execution_count": 3,
     "metadata": {},
     "output_type": "execute_result"
    }
   ],
   "source": [
    "# IGNORE THIS CODE FOR NOW, YOU DON'T HAVE TO WORRY ABOUT IT!\n",
    "# Just look at the shiny picture below\n",
    "\n",
    "# visualize stuff\n",
    "import matplotlib.pyplot as plt\n",
    "\n",
    "# import Qiskit\n",
    "from qiskit import QuantumCircuit\n",
    "\n",
    "circuit = QuantumCircuit(2)\n",
    "circuit.cx(0,1)\n",
    "circuit.draw(output=\"mpl\")"
   ]
  },
  {
   "cell_type": "markdown",
   "metadata": {},
   "source": [
    "Or equivalently in LaTeX documents (source: [Wikipedia, Quantum logic gate](https://en.wikipedia.org/wiki/Quantum_logic_gate)):\n",
    "\n",
    "![](img/cx-latex.png)"
   ]
  },
  {
   "cell_type": "markdown",
   "metadata": {},
   "source": [
    "The smaller circle is used to denote the control qubit while the larger circle with the plus in it is the target qubit"
   ]
  },
  {
   "cell_type": "markdown",
   "metadata": {},
   "source": [
    "## Toffoli/CCX/CCNOT Gate"
   ]
  },
  {
   "cell_type": "markdown",
   "metadata": {},
   "source": [
    "The Toffoli/CCX gate is like its brother the CX gate BUT\n",
    "* It still targets one qubit, but takes TWO qubits as input\n",
    "* Both the qubits must be in the $\\ket{1}$ state to apply an X gate onto the target qubit"
   ]
  },
  {
   "cell_type": "markdown",
   "metadata": {},
   "source": [
    "You can see the behavior of the gate from the following, letting the first qubit being $\\ket{\\text{control_1}}$, the second $\\ket{\\text{control_2}}$, and the third being $\\ket{\\text{target}}$ giving an input of:\n",
    "\n",
    "$$\\ket{\\text{control_1}} \\otimes \\ket{\\text{control_2}} \\otimes \\ket{\\text{target}}$$"
   ]
  },
  {
   "cell_type": "markdown",
   "metadata": {},
   "source": [
    "$$ CCX \\ket{000} = \\ket{000} $$\n",
    "$$ CCX \\ket{001} = \\ket{001} $$\n",
    "$$ CCX \\ket{010} = \\ket{010} $$\n",
    "$$ CCX \\ket{011} = \\ket{011} $$\n",
    "$$ CCX \\ket{100} = \\ket{100} $$\n",
    "$$ CCX \\ket{101} = \\ket{101} $$\n",
    "$$ CCX \\ket{110} = \\ket{111} $$\n",
    "$$ CCX \\ket{111} = \\ket{110} $$"
   ]
  },
  {
   "cell_type": "markdown",
   "metadata": {},
   "source": [
    "Note that it is only in the last two entries, where both the control qubits are $\\ket{1}$, that anything changes"
   ]
  },
  {
   "cell_type": "markdown",
   "metadata": {},
   "source": [
    "You can also think of the CCX gate as a kind of reversible AND gate (source: [\"Tutorial: Implement Grover's search algorithm in Q#\", Azure Quantum Documentation](https://docs.microsoft.com/en-us/azure/quantum/tutorial-qdk-grovers-search?tabs=tabid-visualstudio))."
   ]
  },
  {
   "cell_type": "markdown",
   "metadata": {},
   "source": [
    "In quantum software frameworks, the CCX gate is represented like so:"
   ]
  },
  {
   "cell_type": "code",
   "execution_count": 6,
   "metadata": {},
   "outputs": [
    {
     "data": {
      "image/png": "[encoded data removed]",
      "text/plain": [
       "<Figure size 146.797x204.68 with 1 Axes>"
      ]
     },
     "execution_count": 6,
     "metadata": {},
     "output_type": "execute_result"
    }
   ],
   "source": [
    "# IGNORE THIS CODE FOR NOW, YOU DON'T HAVE TO WORRY ABOUT IT!\n",
    "# Just look at the shiny picture below\n",
    "\n",
    "# visualize stuff\n",
    "import matplotlib.pyplot as plt\n",
    "\n",
    "# import Qiskit\n",
    "from qiskit import QuantumCircuit\n",
    "\n",
    "circuit = QuantumCircuit(3)\n",
    "circuit.ccx(0,1,2)\n",
    "circuit.draw(output=\"mpl\")"
   ]
  },
  {
   "cell_type": "markdown",
   "metadata": {},
   "source": [
    "Or equivalently in LaTeX documents (source: [Wikipedia, Quantum logic gate](https://en.wikipedia.org/wiki/Quantum_logic_gate)):\n",
    "\n",
    "![](img/ccx-latex.png)"
   ]
  },
  {
   "cell_type": "markdown",
   "metadata": {},
   "source": [
    "The two smaller dots represent the control qubits, while the larger circle with the \"plus\" symbol represents the target qubit. "
   ]
  },
  {
   "cell_type": "markdown",
   "metadata": {},
   "source": [
    "Note that this symbol pattern is merely an extension of what we saw with the CX gate."
   ]
  },
  {
   "cell_type": "markdown",
   "metadata": {},
   "source": [
    "## Do all Controlled Gates just apply the \"X\" gate onto a qubit?\n",
    "\n",
    "Excellent observation, not at all! Just as you can have a CX gate you can also have a CH or a CY or a C (insert single qubit gate here)\n",
    "\n",
    "They aren't covered here but you can get an idea of how useful they might be in the [IBM Qiskit Textbook, Section 2.4 - More Circuit Identities\"](https://qiskit.org/textbook/ch-gates/more-circuit-identities.html)"
   ]
  },
  {
   "cell_type": "markdown",
   "metadata": {},
   "source": [
    "## N-Control Qubit Gates\n",
    "\n",
    "There are certain instances where we may want a Controlled gate that takes MORE than two qubits as its input. In fact, we may want N-qubit control where we get to specify the number of qubits required to be in the $\\ket{1}$ state before something happens to the target qubit.\n",
    "\n",
    "These N-Control Qubit gates look like this:"
   ]
  },
  {
   "cell_type": "code",
   "execution_count": 10,
   "metadata": {},
   "outputs": [
    {
     "data": {
      "image/png": "[encoded data removed]",
      "text/plain": [
       "<Figure size 146.797x264.88 with 1 Axes>"
      ]
     },
     "execution_count": 10,
     "metadata": {},
     "output_type": "execute_result"
    }
   ],
   "source": [
    "# IGNORE THIS CODE FOR NOW, YOU DON'T HAVE TO WORRY ABOUT IT!\n",
    "# Just look at the shiny picture below\n",
    "\n",
    "# visualize stuff\n",
    "import matplotlib.pyplot as plt\n",
    "\n",
    "# import Qiskit\n",
    "from qiskit import QuantumCircuit\n",
    "\n",
    "circuit = QuantumCircuit(4)\n",
    "circuit.mcx([0,1,2],3)\n",
    "circuit.draw(output=\"mpl\")"
   ]
  },
  {
   "cell_type": "markdown",
   "metadata": {},
   "source": [
    "In the particular instance, this is a Controlled-Controlled-Controlled-X (quite a mouthful) and will only affect the target qubit if ALL three inputs are $\\ket{1}$"
   ]
  }
 ],
 "metadata": {
  "kernelspec": {
   "display_name": "Python 3.9.6 64-bit",
   "language": "python",
   "name": "python39664bit86112629e81f4dad9dd7632ff93bfb0b"
  },
  "language_info": {
   "codemirror_mode": {
    "name": "ipython",
    "version": 3
   },
   "file_extension": ".py",
   "mimetype": "text/x-python",
   "name": "python",
   "nbconvert_exporter": "python",
   "pygments_lexer": "ipython3",
   "version": "3.9.6"
  }
 },
 "nbformat": 4,
 "nbformat_minor": 4
}
