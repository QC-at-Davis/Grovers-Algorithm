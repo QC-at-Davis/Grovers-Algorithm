{
 "cells": [
  {
   "cell_type": "markdown",
   "metadata": {},
   "source": [
    "# Deriving Grover's Operator"
   ]
  },
  {
   "cell_type": "markdown",
   "metadata": {},
   "source": [
    "NOTATION WARNING: Occasionally, you will find that the index for the probability amplitudes may be $i$ or $x$. This comes from trying to use the source for the math mentioned here in conjunction with another source that was used to give an overview of Grover's in the presentation [Abhijith J., et al., \"Quantum Algorithm Implementations for Beginners\" arXiv:1804.03719 quant-ph](http://arxiv.org/abs/1804.03719). Just know that the $x$ and the $i$ you see are interchangeable without any interference. They represent the same thing."
   ]
  },
  {
   "cell_type": "markdown",
   "metadata": {},
   "source": [
    "After the presentation, you may be scratching your head over how this:\n",
    "    \n",
    "$$\n",
    "2\\ket{\\psi}\\bra{\\psi} - I\n",
    "$$\n",
    "\n",
    "Where $\\ket{\\psi}$ is an equal superposition of all the basis states,\n",
    "\n",
    "Can turn any amplitude $a_i$ into $2 \\left< a \\right> - a_i$, where $\\left< a \\right>$ is the mean of the amplitudes and perform the \"inversion about the mean\" process."
   ]
  },
  {
   "cell_type": "markdown",
   "metadata": {},
   "source": [
    "Here, we'll try and show how that happens. All of the math below comes from [\"Lecture 4: Grover's Algorithm\" by Lecturer John Wright and scribe Tom Tseng](https://www.cs.cmu.edu/~odonnell/quantum15/lecture04.pdf) but I've added some comments that will hopefully be of use to you"
   ]
  },
  {
   "cell_type": "markdown",
   "metadata": {},
   "source": [
    "We start by recognizing that \n",
    "$$\n",
    "2\\ket{\\psi}\\bra{\\psi} - I\n",
    "$$\n",
    "\n",
    "Is actually composed of two Hadamards that wrap around another operation at its center:\n",
    "    \n",
    "$$\n",
    "H^{\\otimes n} \\left( 2\\ket{0^{\\otimes n}}\\bra{0^{\\otimes n}}  - I \\right) H^{\\otimes n} \n",
    "$$"
   ]
  },
  {
   "cell_type": "markdown",
   "metadata": {},
   "source": [
    "The above can be represented in circuit form below (minus the Oracle, just the three boxes to the right), taken from Nielsen & Chuang, *Quantum Computation and Quantum Information*, 10th anniversary ed. p. 251\n",
    "\n",
    "![](img/grover-operation-diagram.png)\n",
    "\n",
    "Note that if we lump the oracle together with the operator it's usually called a \"Grover Iteration\" in multiple sources but for pedagogical purposes I avoid lumping it all together and explicitly state we apply the oracle, followed by the Grover Operator, and we keep doing so a suitable number of times until we reach our answer"
   ]
  },
  {
   "cell_type": "markdown",
   "metadata": {},
   "source": [
    "The $2\\ket{0^{\\otimes n}}\\bra{0^{\\otimes n}} - I$ has the special property that it flips the sign of the phase of every state that is NOT all 0's (the reason for the $\\otimes n$ in the bra's and ket's is to denote that it could be the all 0 state for any number of n qubits)"
   ]
  },
  {
   "cell_type": "markdown",
   "metadata": {},
   "source": [
    "We can see this in action with two cases:\n",
    "    \n",
    "1. The all-0 state\n",
    "2. Some state that is NOT all 0 (and therefore orthogonal to the all-0 state)\n",
    "\n",
    "Note for the following notation I've dropped the $\\otimes n$ notation for the sake of brevity but just remember this can be extended to any number of qubits\n",
    "\n",
    "For the all-0 state we get the following behavior:\n",
    "$$\n",
    "[2\\ket{0}\\bra{0} - I] \\ket{0} = 2\\ket{0}\\braket{0}{0} - \\ket{0} = 2\\ket{0} - \\ket{0} = \\ket{0}\n",
    "$$\n",
    "\n",
    "But for anything that isn't all-0 (a basis state such as $\\ket{1}$ orthogonal to $\\ket{0}$) you get the following:\n",
    "\n",
    "$$\n",
    "[2\\ket{0}\\bra{0} - I] \\ket{1} = 2\\ket{0}\\braket{0}{1} - \\ket{1} = - \\ket{1}\n",
    "$$"
   ]
  },
  {
   "cell_type": "markdown",
   "metadata": {},
   "source": [
    "With that understanding, we continue with our math\n",
    "    \n",
    "$$\n",
    "H^{\\otimes n} \\left( 2\\ket{0^{\\otimes n}}\\bra{0^{\\otimes n}}  - I \\right) H^{\\otimes n} \n",
    "$$\n",
    "\n",
    "Remember that any time you see something like $\\ket{a}\\bra{b}$ what you're looking at is really a matrix and as such, the rules of matrix multiplication apply meaning ORDER MATTERS.\n",
    "\n",
    "We're going from Left to Right here so if we multiply the first Hadamard we get something like:\n",
    "\n",
    "$$\n",
    "H^{\\otimes n} \\left( 2\\ket{0^{\\otimes n}}\\bra{0^{\\otimes n}} H^{\\otimes n}  - H^{\\otimes n}  \\right)\n",
    "$$"
   ]
  },
  {
   "cell_type": "markdown",
   "metadata": {},
   "source": [
    "Now we can apply the other Hadamard to get:\n",
    "\n",
    "$$\n",
    " \\left( 2 H^{\\otimes n} \\ket{0^{\\otimes n}}\\bra{0^{\\otimes n}} H^{\\otimes n}  - H^{\\otimes n} H^{\\otimes n}  \\right)\n",
    "$$"
   ]
  },
  {
   "cell_type": "markdown",
   "metadata": {},
   "source": [
    "The Hadamard, when applied twice, actually just undoes its own operation so it becomes the Identity (I) (you can verify this for yourself by multiplying the Hadamard matrix with itself, it should end up being the identity matrix):\n",
    "    \n",
    "$$\n",
    " \\left( 2 H^{\\otimes n} \\ket{0^{\\otimes n}}\\bra{0^{\\otimes n}} H^{\\otimes n}  - I  \\right)\n",
    "$$\n",
    "\n",
    "Also, $\\bra{0^{\\otimes n}} H^{\\otimes n}$ can be equivalently expressed as the following: $\\left( H^{\\otimes n} \\ket{0^{\\otimes n}}\\right)^{\\dagger}$, where we are taking the adjoint of the whole thing. Note that the adjoint flips the order of everything so our bra becomes a ket and the Hadamard now sits to the left instead of the right. You can verify this equivalence for yourself by just taking a small single qubit case (so a single Hadamard and a single $\\bra{0}$) and multiplying it together: $\\bra{0}H$. Keep that to the side and do $H\\ket{0}$ BUT, take the complex conjugate transpose and you'll find they are equivalent."
   ]
  },
  {
   "cell_type": "markdown",
   "metadata": {},
   "source": [
    "With the above in mind our expression becomes:\n",
    "$$\n",
    "\\left( 2 H^{\\otimes n} \\ket{0^{\\otimes n}} \\left(H^{\\otimes n} \\ket{0^{\\otimes n}} \\right)^{\\dagger}  - I  \\right)\n",
    "$$"
   ]
  },
  {
   "cell_type": "markdown",
   "metadata": {},
   "source": [
    "Remember the following shorthand notation we use for the Hadamard:\n",
    "$$\n",
    "H\\ket{0} = \\ket{+} = \\frac{\\ket{0} + \\ket{1}}{\\sqrt{2}}\n",
    "$$\n",
    "And that $\\ket{+}$ can be generalized to mean an equal superposition of all possible basis states regardless of the number of qubits\n",
    "\n",
    "Thus, we can say:\n",
    "\n",
    "$$\n",
    "\\left( 2 \\ket{+^{\\otimes n}} \\left( \\ket{+^{\\otimes n}} \\right)^{\\dagger}  - I  \\right)\n",
    "$$"
   ]
  },
  {
   "cell_type": "markdown",
   "metadata": {},
   "source": [
    "We can drop the adjoint and return the ket-bra form:\n",
    "\n",
    "$$\n",
    "\\left( 2 \\ket{+^{\\otimes n}} \\bra{+^{\\otimes n}}  - I  \\right)\n",
    "$$"
   ]
  },
  {
   "cell_type": "markdown",
   "metadata": {},
   "source": [
    "Now it seems like we aren't getting anywhere and we've just made the problem even worse but bear with me!"
   ]
  },
  {
   "cell_type": "markdown",
   "metadata": {},
   "source": [
    "Let us apply the above to an arbitrary state represented by $\\ket{\\psi}  = \\sum_{x \\in \\{0,1\\}^n} a_x \\ket{x}$ where $a_x$ is the probability amplitude associated with the basis state\n",
    "\n",
    "This gives us:\n",
    "\n",
    "$$\n",
    "2 \\ket{+^{\\otimes n}} \\braket{+^{\\otimes n}}{\\psi} - \\ket{\\psi}\n",
    "$$"
   ]
  },
  {
   "cell_type": "markdown",
   "metadata": {},
   "source": [
    "Recognize that you can express\n",
    "\n",
    "$$ \\bra{+^{\\otimes n}} = \\left(\\frac{\\bra{0} + \\bra{1}}{\\sqrt{2}} \\right) = \\frac{1}{\\sqrt{2^n}}\\sum_{x \\in \\{0,1\\}^n} \\bra{x}$$"
   ]
  },
  {
   "cell_type": "markdown",
   "metadata": {},
   "source": [
    "where $n$ is the number of qubits"
   ]
  },
  {
   "cell_type": "markdown",
   "metadata": {},
   "source": [
    "Thus, $\\braket{+^{\\otimes n}}{\\psi}$ becomes:"
   ]
  },
  {
   "cell_type": "markdown",
   "metadata": {},
   "source": [
    "$$\n",
    "\\left(\\frac{1}{\\sqrt{2^n}}\\sum_{x \\in \\{0,1\\}^n} \\bra{x}\\right)\\left(\\sum_{x \\in \\{0,1\\}^n} a_x \\ket{x}\\right)\n",
    "$$"
   ]
  },
  {
   "cell_type": "markdown",
   "metadata": {},
   "source": [
    "$$\n",
    "\\sum_{x \\in \\{0,1\\}}^n \\frac{a_x}{\\sqrt{2^n}} \\braket{x}{x}\n",
    "$$\n",
    "$$\n",
    "\\sum_{x \\in \\{0,1\\}}^n \\frac{a_x}{\\sqrt{2^n}}\n",
    "$$\n",
    "\n",
    "Now there's a bit of \"sleight of hand\" by Wright (the source's author) that makes things come out nicer.\n",
    "\n",
    "Remember that the mean of the amplitudes is defined as:\n",
    "\n",
    "$$\\left< a \\right> = \\frac{\\sum_{x} a_x}{N}$$\n",
    "\n",
    "where $N$ is equivalent to $2^n$ given n = the number of qubits in your system"
   ]
  },
  {
   "cell_type": "markdown",
   "metadata": {},
   "source": [
    "Right now we we have the numerator, but the denominator needs to be present before we can declare this $\\right< a \\left>\n",
    "\n",
    "But, if we multiply both the numerator and denominator by $\\sqrt{2^n}$ we obtain the following:\n",
    "\n",
    "$$\n",
    "\\sum_{x \\in \\{0,1\\}}^n \\frac{a_x}{\\sqrt{2^n}} \\cdot \\frac{\\sqrt{2^n}}{\\sqrt{2^n}}\n",
    "=\n",
    "\\sum_{x \\in \\{0,1\\}}^n \\frac{a_x}{2^n} \\sqrt{2^n}\n",
    "$$\n",
    "\n",
    "Now we have the mean with a coefficient! Thus, the above becomes:\n",
    "\n",
    "$$\n",
    "\\sum_{x \\in \\{0,1\\}}^n \\frac{a_x}{2^n} \\sqrt{2^n} = \\left< a \\right> \\sqrt{2^n}\n",
    "$$"
   ]
  },
  {
   "cell_type": "markdown",
   "metadata": {},
   "source": [
    "Let's revisit where we were earlier:\n",
    "$$\n",
    "2 \\ket{+^{\\otimes n}} \\braket{+^{\\otimes n}}{\\psi} - \\ket{\\psi}\n",
    "$$\n",
    "\n",
    "Plug in what we know:\n",
    "\n",
    "$$\n",
    "2 \\ket{+^{\\otimes n}} \\left< a \\right> \\sqrt{2^n} - \\ket{\\psi}\n",
    "$$\n"
   ]
  },
  {
   "cell_type": "markdown",
   "metadata": {},
   "source": [
    "Note that we can expand out the $$\\ket{+^{\\otimes n}}$$\n",
    "\n",
    "Back to its original summation form to get:\n",
    "\n",
    "$$\n",
    "2 \\left( \\frac{1}{\\sqrt{2^n}}\\sum_{x \\in \\{0,1\\}^n} \\ket{x} \\right) \\left< a \\right> \\sqrt{2^n} - \\ket{\\psi}\n",
    "$$"
   ]
  },
  {
   "cell_type": "markdown",
   "metadata": {},
   "source": [
    "Now we see that the pesky $\\sqrt{2^n}$ disappears from the normalization coefficient in front of the summation which leaves us with:\n"
   ]
  },
  {
   "cell_type": "markdown",
   "metadata": {},
   "source": [
    "$$\n",
    "2 \\left(\\sum_{x \\in \\{0,1\\}^n} \\ket{x} \\right) \\left< a \\right> - \\ket{\\psi}\n",
    "$$"
   ]
  },
  {
   "cell_type": "markdown",
   "metadata": {},
   "source": [
    "Recall that we defined $\\ket{\\psi}$ to be: $\\sum_{x \\in \\{0,1\\}^n} a_x \\ket{x}$ so we can expand it here:\n",
    "        \n",
    "$$\n",
    "2 \\left(\\sum_{x \\in \\{0,1\\}^n} \\ket{x} \\right) \\left< a \\right> - \\left( \\sum_{x \\in \\{0,1\\}^n} a_x \\ket{x} \\right)\n",
    "$$"
   ]
  },
  {
   "cell_type": "markdown",
   "metadata": {},
   "source": [
    "And if we do some shuffling around, we can simplify to:\n",
    "$$\n",
    "\\sum_{x \\in \\{0,1\\}^n} (2 \\left< a \\right> - a_x) \\ket{x}\n",
    "$$  "
   ]
  }
 ],
 "metadata": {
  "kernelspec": {
   "display_name": "Python 3.9.6 64-bit",
   "language": "python",
   "name": "python39664bit86112629e81f4dad9dd7632ff93bfb0b"
  },
  "language_info": {
   "codemirror_mode": {
    "name": "ipython",
    "version": 3
   },
   "file_extension": ".py",
   "mimetype": "text/x-python",
   "name": "python",
   "nbconvert_exporter": "python",
   "pygments_lexer": "ipython3",
   "version": "3.9.6"
  }
 },
 "nbformat": 4,
 "nbformat_minor": 4
}
