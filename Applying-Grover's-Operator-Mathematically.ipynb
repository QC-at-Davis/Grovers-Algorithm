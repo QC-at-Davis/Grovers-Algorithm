{
 "cells": [
  {
   "cell_type": "markdown",
   "metadata": {},
   "source": [
    "# Applying Grover's Operator (Mathematically)"
   ]
  },
  {
   "cell_type": "markdown",
   "metadata": {},
   "source": [
    "Note: The math here is just an annotated derivation from Professor Emma Strubell's [\"An Introduction to Quantum Algorithms\"](https://strubell.github.io/doc/quantum_tutorial.pdf) p.24 - 25\n",
    "\n",
    "Professor Strubell applies the operator twice (the optimal amount) for an oracle with a single solution and 3-bit input but I will only show half of the math here with some (hopefully helpful) notes"
   ]
  },
  {
   "cell_type": "markdown",
   "metadata": {},
   "source": [
    "After applying Hadamards to $\\ket{000}$ to obtain an equal superposition:\n",
    "    \n",
    "$$H^{\\otimes 3}\\ket{000} = \\frac{1}{\\sqrt{2^n}} \\sum_{x \\in \\{0,1\\}^n} \\ket{x} = \\frac{1}{2\\sqrt{2}}\\ket{000} + \\cdots + \\frac{1}{2\\sqrt{2}}\\ket{111} = \\ket{\\psi}$$\n",
    "\n",
    "where $n$ is the number of qubits in the system (in this case, three)"
   ]
  },
  {
   "cell_type": "markdown",
   "metadata": {},
   "source": [
    "We apply the oracle, which introduces a phase flip to $\\ket{011}$ (arbitrarily chosen for demonstration purposes).\n",
    "\n",
    "This should have the effect of flipping the sign in front of $\\ket{011}$ so we have the following change:\n",
    "$$\n",
    "\\frac{1}{2\\sqrt{2}}\\ket{011} \\rightarrow -\\frac{1}{2\\sqrt{2}}\\ket{011}\n",
    "$$\n",
    "\n",
    "Now, intuitively, we could express the change with respect to the summation above like so:\n",
    "\n",
    "$$\n",
    "\\frac{1}{2\\sqrt{2}} \\sum_{x \\in \\{0,1\\}^n - \\{011\\}} \\ket{x} -\\frac{1}{2\\sqrt{2}}\\ket{011}\n",
    "$$\n",
    "\n",
    "Where we still keep our original summation representing the equal superposition but with the additional rule in the summation that we EXCLUDE $\\ket{011}$ from it and leave it dangling as another term.\n",
    "\n",
    "Unfortunately this turns out to be a pain in the ass to deal with when we apply the Grover operation using the Bra-Ket notation so what we do is we KEEP the summation representing the equal superposition of all states (remember in the above that we can denote that as $\\ket{\\psi}$) but artificially increase the amplitude of $\\ket{011}$ outside the sum so if you add it all together, you get the correct amplitude.\n",
    "\n",
    "In mathematical notation, these two are equivalent:\n",
    "$$\n",
    "\\frac{1}{2\\sqrt{2}} \\sum_{x \\in \\{0,1\\}^n - \\{011\\}} \\ket{x} -\\frac{1}{2\\sqrt{2}}\\ket{011} = \\ket{\\psi} - \\frac{2}{2\\sqrt{2}} \\ket{011}\n",
    "$$\n",
    "\n",
    "Because in the equal superposition of all states, $\\ket{011}$ has an amplitude of $\\frac{1}{2\\sqrt{2}}$ and the external term gives $\\ket{011}$ and amplitude of $-\\frac{2}{2\\sqrt{2}}$.\n",
    "\n",
    "If you add them together you obtain:\n",
    "$$\n",
    "\\frac{1}{2\\sqrt{2}} - \\frac{2}{2\\sqrt{2}} = -\\frac{1}{2\\sqrt{2}}\n",
    "$$\n",
    "\n",
    "Which is exactly the correct amplitude of $\\ket{011}$ right after we apply the oracle and the phase is flipped. \n",
    "\n",
    "Just a little shuffling around to make applying the operator as painless as possible."
   ]
  },
  {
   "cell_type": "markdown",
   "metadata": {},
   "source": [
    "Recall that we now need to perform an \"inversion about the mean\" which is done via the following operation:\n",
    "$$\n",
    "2\\ket{\\psi}\\bra{\\psi} - I\n",
    "$$"
   ]
  },
  {
   "cell_type": "markdown",
   "metadata": {},
   "source": [
    "Mathematically, the application looks like this:\n",
    "    \n",
    "$$[2\\ket{\\psi}\\bra{\\psi} - I]\\left(\\ket{\\psi} - \\frac{2}{2\\sqrt{2}} \\ket{011}\\right)$$"
   ]
  },
  {
   "cell_type": "markdown",
   "metadata": {},
   "source": [
    "We distribute out all the terms, keeping in mind that with Bra-ket notation we want to match bras to kets:\n",
    "    \n",
    "$$\n",
    "2\\ket{\\psi}\\braket{\\psi | \\psi} - \\frac{2}{2\\sqrt{2}}\\cdot 2 \\ket{\\psi}\\braket{\\psi | 011} - \\ket{\\psi} + \\frac{2}{2\\sqrt{2}}\\ket{011}\n",
    "$$"
   ]
  },
  {
   "cell_type": "markdown",
   "metadata": {},
   "source": [
    "Remember that any time you see $\\braket{\\psi}{\\psi}$ you are taking the inner product and more abstractly, asking yourself \"how much do these vectors overlap?\" In the case where the vectors are the same, we know that:\n",
    "\n",
    "$$\\braket{\\psi | \\psi} = 1$$\n",
    "\n",
    "As the vector overlaps itself perfectly and all state vectors are normalized such that they have a length of 1.\n",
    "\n",
    "Now $\\braket{\\psi | 011}$ may be less intuitive to work with but if we flip the order around $\\braket{011 | \\psi}$ it should be apparent this is $\\frac{1}{2\\sqrt{2}}$. If you expand $\\ket{\\psi}$, you'll find that $\\bra{011}$ is orthogonal to all of its component vectors EXCEPT for $\\ket{011}$ in $\\ket{\\psi}$ itself, which gives a result of $\\frac{1}{2\\sqrt{2}}$.\n",
    "\n",
    "When your bras and kets have *real-valued entries* (which, in Grover's algorithm they do) this identity holds:\n",
    "$\\braket{\\psi | 011} = \\braket{011 | \\psi}$ (for bras and kets with complex valued entries you'll need to take the complex conjugate of the inner product if you flip their order. Source: [\"Dirac Notation\" by Professor C. David Sherrill](http://vergil.chemistry.gatech.edu/notes/intro_estruc/node5.html)). That means that now we know what $\\braket{011 | \\psi}$, we can plug it in for $\\braket{\\psi | 011}$ in the previous formula. If the conclusion seems like a bit of a leap, feel free to check out the derivation below:\n",
    "\n",
    "Don't forget that you can take any ket and turn it into a bra by taking its complex conjugate and then performing a transpose: $$\\bra{\\psi} = (\\ket{{\\psi}}^{*})^{T}$$\n",
    "\n"
   ]
  },
  {
   "cell_type": "markdown",
   "metadata": {},
   "source": [
    "$$\n",
    "\\braket{011 | \\psi} = \\frac{1}{2\\sqrt{2}} \\braket{011 | 000} + \\cdots + \\frac{1}{2\\sqrt{2}} \\braket{011 | 011} + \\cdots + \\frac{1}{2\\sqrt{2}} \\braket{011 | 111}\n",
    "$$\n",
    "\n",
    "Remember, all the basis states ($\\ket{000} \\cdots \\ket{111}$) are all orthogonal to eachother so we get:\n",
    "\n",
    "$$\n",
    "\\braket{011 | \\psi} = \\frac{1}{2\\sqrt{2}} \\cdot 0 + \\cdots + \\frac{1}{2\\sqrt{2}} \\cdot 1 + \\cdots + \\frac{1}{2\\sqrt{2}} \\cdot 0\n",
    "$$\n",
    "\n",
    "Which gives only a single standing answer of $\\frac{1}{2\\sqrt{2}}$"
   ]
  },
  {
   "cell_type": "markdown",
   "metadata": {},
   "source": [
    "Now returning to back when we distributed out the Grover operation to our phase flipped state we get the following:\n",
    "\n",
    "$$\n",
    "2\\ket{\\psi} - \\frac{4}{2\\sqrt{2}} \\left(\\frac{1}{2\\sqrt{2}}\\right)\\ket{\\psi} - \\ket{\\psi} + \\frac{2}{2\\sqrt{2}}\\ket{011}\n",
    "$$"
   ]
  },
  {
   "cell_type": "markdown",
   "metadata": {},
   "source": [
    "Which, when simplified (just treat the kets like variables in normal algebra and group all the $\\ket{\\psi}$'s together) becomes:\n",
    "    \n",
    "$$\n",
    "\\frac{1}{2}\\ket{\\psi} + \\frac{1}{\\sqrt{2}} \\ket{011}\n",
    "$$\n",
    "\n",
    "It might seem like we've somehow DECREASED the probability amplitude of $\\ket{011}$ but don't forget that $\\ket{\\psi}$ CONTAINS a $\\ket{011}$ too!\n",
    "\n",
    "Remember that $\\ket{\\psi}$ is really hiding $\\frac{1}{2\\sqrt{2}} \\sum_{x \\in \\{0,1\\}^3} \\ket{x}$. We can substitute back in to the equation above and get:\n",
    "\n",
    "$$\n",
    "\\frac{1}{2} \\left( \\frac{1}{2\\sqrt{2}} \\sum_{x \\in \\{0,1\\}^3} \\ket{x} \\right) + \\frac{1}{\\sqrt{2}} \\ket{011}\n",
    "$$"
   ]
  },
  {
   "cell_type": "markdown",
   "metadata": {},
   "source": [
    "We can pull out the $\\ket{011}$ in the summation to obtain:\n",
    "\n",
    "$$\n",
    "\\frac{1}{4\\sqrt{2}} \\sum_{x \\in \\{0,1\\}^3 - \\{011\\}} \\ket{x} + \\frac{1}{4\\sqrt{2}} \\ket{011} + \\frac{1}{\\sqrt{2}} \\ket{011}\n",
    "$$"
   ]
  },
  {
   "cell_type": "markdown",
   "metadata": {},
   "source": [
    "Which gives us:\n",
    "$$\n",
    "\\frac{1}{4\\sqrt{2}} \\sum_{x \\in \\{0,1\\}^3 - \\{011\\}} \\ket{x} + \\frac{5}{4\\sqrt{2}} \\ket{011}\n",
    "$$"
   ]
  },
  {
   "cell_type": "markdown",
   "metadata": {},
   "source": [
    "To apply the operation again we apply the oracle, so we have another flip of the sign on $\\ket{011}$\n",
    "\n",
    "$$\n",
    "\\frac{1}{4\\sqrt{2}} \\sum_{x \\in \\{0,1\\}^3 - \\{011\\}} \\ket{x} - \\frac{5}{4\\sqrt{2}} \\ket{011}\n",
    "$$\n"
   ]
  },
  {
   "cell_type": "markdown",
   "metadata": {},
   "source": [
    "Now we apply the same trick as before where we want to incorporate the equal superposition of all basis states, $\\ket{\\psi}$. This involves subtracting $\\frac{1}{4\\sqrt{2}}$ from our $-\\frac{5}{4\\sqrt{2}}$ so we get:\n",
    "\n",
    "$$\n",
    "\\ket{\\psi} - \\frac{6}{4\\sqrt{2}}\\ket{011}\n",
    "$$\n",
    "\n"
   ]
  },
  {
   "cell_type": "markdown",
   "metadata": {},
   "source": [
    "You already know from the prior math how you should apply Grover's operator so feel free to do so (as well as consult the Source this math was based on, mentioned in the very beginning!) to verify your results."
   ]
  }
 ],
 "metadata": {
  "kernelspec": {
   "display_name": "Python 3.9.6 64-bit",
   "language": "python",
   "name": "python39664bit86112629e81f4dad9dd7632ff93bfb0b"
  },
  "language_info": {
   "codemirror_mode": {
    "name": "ipython",
    "version": 3
   },
   "file_extension": ".py",
   "mimetype": "text/x-python",
   "name": "python",
   "nbconvert_exporter": "python",
   "pygments_lexer": "ipython3",
   "version": "3.9.6"
  }
 },
 "nbformat": 4,
 "nbformat_minor": 4
}
