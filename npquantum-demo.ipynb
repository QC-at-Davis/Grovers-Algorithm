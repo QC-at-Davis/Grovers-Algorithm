{
 "cells": [
  {
   "cell_type": "code",
   "execution_count": 24,
   "metadata": {},
   "outputs": [],
   "source": [
    "import numpy as np\n",
    "import npquantum as npq\n",
    "import matplotlib.pyplot as plt"
   ]
  },
  {
   "cell_type": "code",
   "execution_count": 25,
   "metadata": {},
   "outputs": [
    {
     "data": {
      "text/plain": [
       "array([[-1.,  0.,  0.,  0.],\n",
       "       [ 0.,  1.,  0.,  0.],\n",
       "       [ 0.,  0.,  1.,  0.],\n",
       "       [ 0.,  0.,  0.,  1.]])"
      ]
     },
     "execution_count": 25,
     "metadata": {},
     "output_type": "execute_result"
    }
   ],
   "source": [
    "# Oracle will apply a phase flip to the desired answer\n",
    "# we pick |00> as the answer for now\n",
    "\n",
    "# qiskit textbook: https://qiskit.org/textbook/ch-algorithms/grover.html#Creating-an-Oracle\n",
    "identity_mat = np.eye(4)\n",
    "identity_mat[0,0] = -1\n",
    "oracle = identity_mat\n",
    "oracle"
   ]
  },
  {
   "cell_type": "code",
   "execution_count": 26,
   "metadata": {},
   "outputs": [
    {
     "data": {
      "text/plain": [
       "array([[-1.],\n",
       "       [ 0.],\n",
       "       [ 0.],\n",
       "       [ 0.]])"
      ]
     },
     "execution_count": 26,
     "metadata": {},
     "output_type": "execute_result"
    }
   ],
   "source": [
    "# change the phase of the desired answer\n",
    "# Note that right now, all I've done is applied a global phase\n",
    "# For the algorithm to work you apply the oracle on a superposition state\n",
    "oracle @ npq.ket00"
   ]
  },
  {
   "cell_type": "code",
   "execution_count": 27,
   "metadata": {},
   "outputs": [
    {
     "data": {
      "text/plain": [
       "array([[1],\n",
       "       [0],\n",
       "       [0],\n",
       "       [0]])"
      ]
     },
     "execution_count": 27,
     "metadata": {},
     "output_type": "execute_result"
    }
   ],
   "source": [
    "# Start in the all 0 state\n",
    "initial_state = npq.ket00\n",
    "initial_state"
   ]
  },
  {
   "cell_type": "code",
   "execution_count": 28,
   "metadata": {},
   "outputs": [
    {
     "data": {
      "text/plain": [
       "array([[ 0.5,  0.5,  0.5,  0.5],\n",
       "       [ 0.5, -0.5,  0.5, -0.5],\n",
       "       [ 0.5,  0.5, -0.5, -0.5],\n",
       "       [ 0.5, -0.5, -0.5,  0.5]])"
      ]
     },
     "execution_count": 28,
     "metadata": {},
     "output_type": "execute_result"
    }
   ],
   "source": [
    "# apply the hadamard to everything\n",
    "double_hadamard = np.kron(npq.H, npq.H)\n",
    "double_hadamard"
   ]
  },
  {
   "cell_type": "code",
   "execution_count": 29,
   "metadata": {},
   "outputs": [],
   "source": [
    "superposition_state = double_hadamard @ initial_state"
   ]
  },
  {
   "cell_type": "code",
   "execution_count": 30,
   "metadata": {},
   "outputs": [
    {
     "data": {
      "text/plain": [
       "array([[0.5],\n",
       "       [0.5],\n",
       "       [0.5],\n",
       "       [0.5]])"
      ]
     },
     "execution_count": 30,
     "metadata": {},
     "output_type": "execute_result"
    }
   ],
   "source": [
    "# note that every possible value, |00> .. |11> has an equal chance of being measured\n",
    "# The \"0.5\" may throw you off because, with plain intution 0.5 + 0.5 + 0.5 + 0.5 > 1!\n",
    "\n",
    "# BUt remember this is also a|00> + b|01> + c|10> + c|11>\n",
    "# And furthermore, due to the normalization constraint |a|^2 + |b|^2 + |c|^2 + |d|^2 = 1\n",
    "# Thus, the probability of each state is really |0.5|^2 = 0.25\n",
    "# And you get 0.25 + 0.25 + 0.25 + 0.25 = 1, which satisfies the constraint\n",
    "superposition_state"
   ]
  },
  {
   "cell_type": "code",
   "execution_count": 31,
   "metadata": {},
   "outputs": [
    {
     "name": "stdout",
     "output_type": "stream",
     "text": [
      "0.4999999999999999\n"
     ]
    }
   ],
   "source": [
    "# The current mean\n",
    "print(np.mean(superposition_state[:,0]))"
   ]
  },
  {
   "cell_type": "code",
   "execution_count": 32,
   "metadata": {},
   "outputs": [
    {
     "data": {
      "image/png": "[encoded data removed]",
      "text/plain": [
       "<Figure size 432x288 with 1 Axes>"
      ]
     },
     "metadata": {
      "needs_background": "light"
     },
     "output_type": "display_data"
    }
   ],
   "source": [
    "# Current probability amplitudes and mean\n",
    "labels = [\"|00>\", \"|01>\", \"|10>\", \"|11>\"]\n",
    "x_pos = [i for i, _ in enumerate(labels)]\n",
    "plt.bar(x_pos, superposition_state[:,0], color='tab:blue', width=0.1)\n",
    "plt.axhline(0, color='black')\n",
    "plt.axhline(np.mean(superposition_state[:,0]), color='red')\n",
    "plt.xticks(x_pos, labels)\n",
    "plt.show()"
   ]
  },
  {
   "cell_type": "code",
   "execution_count": 33,
   "metadata": {},
   "outputs": [
    {
     "data": {
      "text/plain": [
       "array([[-0.5],\n",
       "       [ 0.5],\n",
       "       [ 0.5],\n",
       "       [ 0.5]])"
      ]
     },
     "execution_count": 33,
     "metadata": {},
     "output_type": "execute_result"
    }
   ],
   "source": [
    "# now we apply the oracle\n",
    "phase_flipped_state = oracle @ superposition_state\n",
    "phase_flipped_state"
   ]
  },
  {
   "cell_type": "code",
   "execution_count": 34,
   "metadata": {},
   "outputs": [
    {
     "name": "stdout",
     "output_type": "stream",
     "text": [
      "0.24999999999999994\n"
     ]
    }
   ],
   "source": [
    "# notice that the mean has changed\n",
    "print(np.mean(phase_flipped_state[:,0]))"
   ]
  },
  {
   "cell_type": "code",
   "execution_count": 35,
   "metadata": {},
   "outputs": [
    {
     "data": {
      "image/png": "[encoded data removed]",
      "text/plain": [
       "<Figure size 432x288 with 1 Axes>"
      ]
     },
     "metadata": {
      "needs_background": "light"
     },
     "output_type": "display_data"
    }
   ],
   "source": [
    "# Look at what happened to the mean and the probability amplitude\n",
    "labels = [\"|00>\", \"|01>\", \"|10>\", \"|11>\"]\n",
    "x_pos = [i for i, _ in enumerate(labels)]\n",
    "plt.bar(x_pos, phase_flipped_state[:,0], color='tab:blue', width=0.1)\n",
    "plt.axhline(0, color='black')\n",
    "plt.axhline(np.mean(phase_flipped_state[:,0]), color='red')\n",
    "plt.xticks(x_pos, labels)\n",
    "plt.show()"
   ]
  },
  {
   "cell_type": "code",
   "execution_count": 36,
   "metadata": {},
   "outputs": [],
   "source": [
    "# define the grover operator\n",
    "grover_op = double_hadamard @ (2 * (npq.ket00 @ npq.bra00) - np.eye(4)) @ double_hadamard"
   ]
  },
  {
   "cell_type": "code",
   "execution_count": 37,
   "metadata": {},
   "outputs": [
    {
     "data": {
      "text/plain": [
       "array([[-0.5,  0.5,  0.5,  0.5],\n",
       "       [ 0.5, -0.5,  0.5,  0.5],\n",
       "       [ 0.5,  0.5, -0.5,  0.5],\n",
       "       [ 0.5,  0.5,  0.5, -0.5]])"
      ]
     },
     "execution_count": 37,
     "metadata": {},
     "output_type": "execute_result"
    }
   ],
   "source": [
    "grover_op"
   ]
  },
  {
   "cell_type": "code",
   "execution_count": 38,
   "metadata": {},
   "outputs": [
    {
     "data": {
      "text/plain": [
       "array([[1.],\n",
       "       [0.],\n",
       "       [0.],\n",
       "       [0.]])"
      ]
     },
     "execution_count": 38,
     "metadata": {},
     "output_type": "execute_result"
    }
   ],
   "source": [
    "inversion_about_mean_state = grover_op @ phase_flipped_state\n",
    "inversion_about_mean_state"
   ]
  },
  {
   "cell_type": "code",
   "execution_count": 39,
   "metadata": {},
   "outputs": [
    {
     "data": {
      "image/png": "[encoded data removed]",
      "text/plain": [
       "<Figure size 432x288 with 1 Axes>"
      ]
     },
     "metadata": {
      "needs_background": "light"
     },
     "output_type": "display_data"
    }
   ],
   "source": [
    "# Look at what happened to the mean and the probability amplitude\n",
    "labels = [\"|00>\", \"|01>\", \"|10>\", \"|11>\"]\n",
    "x_pos = [i for i, _ in enumerate(labels)]\n",
    "plt.bar(x_pos, inversion_about_mean_state[:,0], color='tab:blue', width=0.1)\n",
    "plt.axhline(0, color='black')\n",
    "plt.axhline(np.mean(inversion_about_mean_state[:,0]), color='red')\n",
    "plt.xticks(x_pos, labels)\n",
    "plt.show()"
   ]
  },
  {
   "cell_type": "markdown",
   "metadata": {},
   "source": [
    "# Overdoing it"
   ]
  },
  {
   "cell_type": "markdown",
   "metadata": {},
   "source": [
    "Recall that if you apply the grover operation too many times you can actually go FURTHER form the correct amplitudes."
   ]
  },
  {
   "cell_type": "code",
   "execution_count": 40,
   "metadata": {},
   "outputs": [],
   "source": [
    "final_state = inversion_about_mean_state"
   ]
  },
  {
   "cell_type": "code",
   "execution_count": 41,
   "metadata": {},
   "outputs": [
    {
     "data": {
      "text/plain": [
       "array([[-1.],\n",
       "       [ 0.],\n",
       "       [ 0.],\n",
       "       [ 0.]])"
      ]
     },
     "execution_count": 41,
     "metadata": {},
     "output_type": "execute_result"
    }
   ],
   "source": [
    "# apply the oracle again\n",
    "phase_flipped_state = oracle @ final_state\n",
    "phase_flipped_state"
   ]
  },
  {
   "cell_type": "code",
   "execution_count": 42,
   "metadata": {},
   "outputs": [
    {
     "name": "stdout",
     "output_type": "stream",
     "text": [
      "-0.24999999999999983\n"
     ]
    }
   ],
   "source": [
    "print(np.mean(phase_flipped_state[:,0]))"
   ]
  },
  {
   "cell_type": "code",
   "execution_count": 43,
   "metadata": {},
   "outputs": [
    {
     "data": {
      "image/png": "[encoded data removed]",
      "text/plain": [
       "<Figure size 432x288 with 1 Axes>"
      ]
     },
     "metadata": {
      "needs_background": "light"
     },
     "output_type": "display_data"
    }
   ],
   "source": [
    "labels = [\"|00>\", \"|01>\", \"|10>\", \"|11>\"]\n",
    "x_pos = [i for i, _ in enumerate(labels)]\n",
    "plt.bar(x_pos, phase_flipped_state[:,0], color='tab:blue', width=0.1)\n",
    "plt.axhline(0, color='black')\n",
    "plt.axhline(np.mean(phase_flipped_state[:,0]), color='red')\n",
    "plt.xticks(x_pos, labels)\n",
    "plt.show()"
   ]
  },
  {
   "cell_type": "code",
   "execution_count": 44,
   "metadata": {},
   "outputs": [
    {
     "data": {
      "text/plain": [
       "array([[ 0.5],\n",
       "       [-0.5],\n",
       "       [-0.5],\n",
       "       [-0.5]])"
      ]
     },
     "execution_count": 44,
     "metadata": {},
     "output_type": "execute_result"
    }
   ],
   "source": [
    "# apply grover's operator again\n",
    "inversion_about_mean_state = grover_op @ phase_flipped_state\n",
    "inversion_about_mean_state"
   ]
  },
  {
   "cell_type": "code",
   "execution_count": 47,
   "metadata": {},
   "outputs": [
    {
     "data": {
      "image/png": "[encoded data removed]",
      "text/plain": [
       "<Figure size 432x288 with 1 Axes>"
      ]
     },
     "metadata": {
      "needs_background": "light"
     },
     "output_type": "display_data"
    }
   ],
   "source": [
    "labels = [\"|00>\", \"|01>\", \"|10>\", \"|11>\"]\n",
    "x_pos = [i for i, _ in enumerate(labels)]\n",
    "plt.bar(x_pos, inversion_about_mean_state[:,0], color='tab:blue', width=0.1)\n",
    "plt.axhline(0, color='black')\n",
    "plt.axhline(np.mean(inversion_about_mean_state[:,0]), color='red')\n",
    "plt.xticks(x_pos, labels)\n",
    "plt.show()\n",
    "\n",
    "# pretty much back where we started\n",
    "# if you measure again, you're going to get a 25% chance of the right answer...\n",
    "# not very useful ):"
   ]
  }
 ],
 "metadata": {
  "kernelspec": {
   "display_name": "Python 3",
   "language": "python",
   "name": "python3"
  },
  "language_info": {
   "codemirror_mode": {
    "name": "ipython",
    "version": 3
   },
   "file_extension": ".py",
   "mimetype": "text/x-python",
   "name": "python",
   "nbconvert_exporter": "python",
   "pygments_lexer": "ipython3",
   "version": "3.8.5"
  }
 },
 "nbformat": 4,
 "nbformat_minor": 4
}
